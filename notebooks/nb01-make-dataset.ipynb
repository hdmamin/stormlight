{
 "cells": [
  {
   "cell_type": "markdown",
   "metadata": {},
   "source": [
    "# Summary\n",
    "\n",
    "Was experimenting with python packages to convert pdf to text. Most options I found were deprecated. Slate3k works but is slow. I found a command line tool `pdftotext` that does this far faster (see bin/raw2interim)."
   ]
  },
  {
   "cell_type": "code",
   "execution_count": 1,
   "metadata": {
    "ExecuteTime": {
     "end_time": "2020-05-26T01:09:34.713502Z",
     "start_time": "2020-05-26T01:09:34.689761Z"
    }
   },
   "outputs": [],
   "source": [
    "%load_ext autoreload\n",
    "%autoreload 2"
   ]
  },
  {
   "cell_type": "code",
   "execution_count": 31,
   "metadata": {
    "ExecuteTime": {
     "end_time": "2020-05-26T01:21:58.110976Z",
     "start_time": "2020-05-26T01:21:58.082057Z"
    }
   },
   "outputs": [],
   "source": [
    "from glob import glob\n",
    "import logging\n",
    "import os\n",
    "from pathlib import Path\n",
    "import slate3k\n",
    "\n",
    "from htools import *"
   ]
  },
  {
   "cell_type": "code",
   "execution_count": 4,
   "metadata": {
    "ExecuteTime": {
     "end_time": "2020-05-26T01:09:39.562937Z",
     "start_time": "2020-05-26T01:09:39.546706Z"
    }
   },
   "outputs": [
    {
     "name": "stdout",
     "output_type": "stream",
     "text": [
      "Current directory: /Users/hmamin/pythonhm/stormlight\n"
     ]
    }
   ],
   "source": [
    "cd_root()"
   ]
  },
  {
   "cell_type": "code",
   "execution_count": 6,
   "metadata": {
    "ExecuteTime": {
     "end_time": "2020-05-26T01:09:40.830418Z",
     "start_time": "2020-05-26T01:09:40.814511Z"
    }
   },
   "outputs": [],
   "source": [
    "PATH = Path('data/interim/words_of_radiance.txt')"
   ]
  },
  {
   "cell_type": "code",
   "execution_count": 33,
   "metadata": {
    "ExecuteTime": {
     "end_time": "2020-05-26T01:26:50.227139Z",
     "start_time": "2020-05-26T01:26:50.209646Z"
    }
   },
   "outputs": [],
   "source": [
    "logger = LoggerMixin().get_logger('data/logs/gen_raw.log')"
   ]
  },
  {
   "cell_type": "code",
   "execution_count": 37,
   "metadata": {
    "ExecuteTime": {
     "end_time": "2020-05-26T01:36:07.145640Z",
     "start_time": "2020-05-26T01:36:07.114484Z"
    }
   },
   "outputs": [],
   "source": [
    "for path in glob('data/raw/*.pdf'):\n",
    "    try:\n",
    "        with open(path, 'rb') as f:\n",
    "            doc = slate3k.PDF(f)\n",
    "    except Exception as e:\n",
    "        logger.info(f'{path}: + {str(e)}')\n",
    "    text = '\\n'.join(doc)\n",
    "    save(text, f'data/interim/{Path(path).parts[-1].replace(\"pdf\", \"txt\")}')"
   ]
  },
  {
   "cell_type": "code",
   "execution_count": 40,
   "metadata": {
    "ExecuteTime": {
     "end_time": "2020-05-26T04:41:52.234191Z",
     "start_time": "2020-05-26T04:41:52.171541Z"
    }
   },
   "outputs": [],
   "source": [
    "with open('data/interim/words_of_radiance.txt', 'r') as f:\n",
    "    text = f.read()"
   ]
  },
  {
   "cell_type": "code",
   "execution_count": 41,
   "metadata": {
    "ExecuteTime": {
     "end_time": "2020-05-26T04:41:53.162902Z",
     "start_time": "2020-05-26T04:41:53.136330Z"
    },
    "scrolled": false
   },
   "outputs": [
    {
     "data": {
      "text/plain": [
       "'SIX YEARS AGO\\nJasnah Kholin pretended to enjoy the party, giving no indication that sh'"
      ]
     },
     "execution_count": 41,
     "metadata": {},
     "output_type": "execute_result"
    }
   ],
   "source": [
    "text[10_014:10_100]"
   ]
  },
  {
   "cell_type": "code",
   "execution_count": 46,
   "metadata": {
    "ExecuteTime": {
     "end_time": "2020-05-26T04:43:04.159718Z",
     "start_time": "2020-05-26T04:43:04.132442Z"
    }
   },
   "outputs": [
    {
     "name": "stdout",
     "output_type": "stream",
     "text": [
      "k you’ve\n",
      "been looking for God in the wrong places.”\n",
      "“I suppose that you’re going to tell me where you think I should look.”\n",
      "“You’ll find God in the same place you’re going to find salvation from this\n",
      "mess,” Wit said. “Inside the hearts of men.”\n",
      "“Curiously,” Jasnah said, “I believe I can actually agree with that, though I\n",
      "suspect for different reasons than you imply. Perhaps this walk won’t be as bad\n",
      "as I had feared.”\n",
      "\n",
      "\f",
      "“Perhaps,” he said, looking up toward the stars. “Whatever else might be said,\n",
      "at least the world chose a nice night upon which to end. . . .”\n",
      "\n",
      "THE END OF\n",
      "\n",
      "Book Two of\n",
      "THE STORMLIGHT ARCHIVE\n",
      "\n",
      "\n"
     ]
    }
   ],
   "source": [
    "print(text[-11_000:-10_385])"
   ]
  },
  {
   "cell_type": "code",
   "execution_count": 47,
   "metadata": {
    "ExecuteTime": {
     "end_time": "2020-05-26T04:43:21.750386Z",
     "start_time": "2020-05-26T04:43:21.719934Z"
    }
   },
   "outputs": [
    {
     "data": {
      "text/plain": [
       "'k you’ve\\nbeen looking for God in the wrong places.”\\n“I suppose that you’re going to tell me where you think I should look.”\\n“You’ll find God in the same place you’re going to find salvation from this\\nmess,” Wit said. “Inside the hearts of men.”\\n“Curiously,” Jasnah said, “I believe I can actually agree with that, though I\\nsuspect for different reasons than you imply. Perhaps this walk won’t be as bad\\nas I had feared.”\\n\\n\\x0c“Perhaps,” he said, looking up toward the stars. “Whatever else might be said,\\nat least the world chose a nice night upon which to end. . . .”\\n\\nTHE END OF\\n\\nBook Two of\\nTHE STORMLIGHT ARCHIVE\\n\\n'"
      ]
     },
     "execution_count": 47,
     "metadata": {},
     "output_type": "execute_result"
    }
   ],
   "source": [
    "text[-11_000:-10_385]"
   ]
  },
  {
   "cell_type": "code",
   "execution_count": 48,
   "metadata": {
    "ExecuteTime": {
     "end_time": "2020-05-26T04:43:51.271258Z",
     "start_time": "2020-05-26T04:43:51.236686Z"
    }
   },
   "outputs": [
    {
     "data": {
      "text/plain": [
       "1172"
      ]
     },
     "execution_count": 48,
     "metadata": {},
     "output_type": "execute_result"
    }
   ],
   "source": [
    "text.count('\\n\\n')"
   ]
  },
  {
   "cell_type": "code",
   "execution_count": 49,
   "metadata": {
    "ExecuteTime": {
     "end_time": "2020-05-26T04:43:56.358720Z",
     "start_time": "2020-05-26T04:43:56.337931Z"
    }
   },
   "outputs": [
    {
     "data": {
      "text/plain": [
       "38769"
      ]
     },
     "execution_count": 49,
     "metadata": {},
     "output_type": "execute_result"
    }
   ],
   "source": [
    "text.count('\\n')"
   ]
  },
  {
   "cell_type": "markdown",
   "metadata": {},
   "source": [
    "I think pdftotext may have inserted newlines to try to match where words wrapped in the pdf. Real new lines may be represented by '\\n\\n'. Will have to investigate further (may differ by book)."
   ]
  },
  {
   "cell_type": "code",
   "execution_count": 57,
   "metadata": {
    "ExecuteTime": {
     "end_time": "2020-05-26T05:48:53.040463Z",
     "start_time": "2020-05-26T05:48:53.000967Z"
    }
   },
   "outputs": [
    {
     "data": {
      "text/plain": [
       "{'Kaladin': 2457,\n",
       " 'Shallan': 2330,\n",
       " 'Dalinar': 1471,\n",
       " 'Jasnah': 527,\n",
       " 'Navani': 337,\n",
       " 'Sadeas': 356,\n",
       " 'Elhokar': 128,\n",
       " 'Taravangian': 114,\n",
       " 'Amaram': 315,\n",
       " 'Adolin': 1395,\n",
       " 'Renarin': 223,\n",
       " 'clasp': 37,\n",
       " 'leak': 26}"
      ]
     },
     "execution_count": 57,
     "metadata": {},
     "output_type": "execute_result"
    }
   ],
   "source": [
    "terms = ('Kaladin', 'Shallan', 'Dalinar', 'Jasnah', 'Navani', 'Sadeas', \n",
    "         'Elhokar', 'Taravangian', 'Amaram', 'Adolin', 'Renarin', \n",
    "         'clasp', 'leak')\n",
    "{x: text.count(x) for x in terms}"
   ]
  }
 ],
 "metadata": {
  "kernelspec": {
   "display_name": "Python 3",
   "language": "python",
   "name": "python3"
  },
  "language_info": {
   "codemirror_mode": {
    "name": "ipython",
    "version": 3
   },
   "file_extension": ".py",
   "mimetype": "text/x-python",
   "name": "python",
   "nbconvert_exporter": "python",
   "pygments_lexer": "ipython3",
   "version": "3.7.3"
  }
 },
 "nbformat": 4,
 "nbformat_minor": 2
}
