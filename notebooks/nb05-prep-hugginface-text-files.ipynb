{
 "cells": [
  {
   "cell_type": "markdown",
   "metadata": {},
   "source": [
    "# Summary\n",
    "\n",
    "Generate train and test files for default training with the script provided by Huggingface. Later we'll experiment with incendio/fastai/pytorch lightning and add things like discriminative learning rates, experiment tracking in comet.ML/mlflow, or architecture experiments. For now I just want to try running the basics and see what kind of results it produces.\n",
    "\n",
    "Note: I've decided to remove my page break token. Since I'm not training page by page anyway, these don't mean much. Page breaks usually don't capture that much information about an author's voice (in fact, different versions of the book might have breaks in different places depending on page/font size) so I don't think we're losing much. I can always insert page breaks every ~500 words in the generated text if I want to make a longer book.\n",
    "\n",
    "Due to the train/val split method, we should use their LineByLine datasset rather than their TextDataset. I didn't want to just chop off the end of each book to construct a validation set since this would leave much of the Sanderlanche out of the training set."
   ]
  },
  {
   "cell_type": "code",
   "execution_count": 4,
   "metadata": {
    "ExecuteTime": {
     "end_time": "2020-06-18T05:22:32.175678Z",
     "start_time": "2020-06-18T05:22:32.137550Z"
    }
   },
   "outputs": [
    {
     "name": "stdout",
     "output_type": "stream",
     "text": [
      "The autoreload extension is already loaded. To reload it, use:\n",
      "  %reload_ext autoreload\n"
     ]
    }
   ],
   "source": [
    "%load_ext autoreload\n",
    "%autoreload 2"
   ]
  },
  {
   "cell_type": "code",
   "execution_count": 20,
   "metadata": {
    "ExecuteTime": {
     "end_time": "2020-06-18T05:33:08.285987Z",
     "start_time": "2020-06-18T05:33:08.225419Z"
    }
   },
   "outputs": [],
   "source": [
    "import matplotlib.pyplot as plt\n",
    "import numpy as np\n",
    "import os\n",
    "import pandas as pd\n",
    "from pathlib import Path\n",
    "from sklearn.model_selection import train_test_split\n",
    "\n",
    "from htools import *\n",
    "from stormlight import *"
   ]
  },
  {
   "cell_type": "code",
   "execution_count": 3,
   "metadata": {
    "ExecuteTime": {
     "end_time": "2020-06-18T05:17:12.259370Z",
     "start_time": "2020-06-18T05:17:12.233290Z"
    }
   },
   "outputs": [
    {
     "name": "stdout",
     "output_type": "stream",
     "text": [
      "Current directory: /Users/hmamin/stormlight\n"
     ]
    }
   ],
   "source": [
    "cd_root()"
   ]
  },
  {
   "cell_type": "code",
   "execution_count": 44,
   "metadata": {
    "ExecuteTime": {
     "end_time": "2020-06-19T03:34:57.647282Z",
     "start_time": "2020-06-19T03:34:57.563268Z"
    }
   },
   "outputs": [
    {
     "data": {
      "text/plain": [
       "dict_keys(['kings', 'words', 'oath'])"
      ]
     },
     "execution_count": 44,
     "metadata": {},
     "output_type": "execute_result"
    }
   ],
   "source": [
    "books = load_books(*STORMLIGHT)\n",
    "books.keys()"
   ]
  },
  {
   "cell_type": "code",
   "execution_count": 45,
   "metadata": {
    "ExecuteTime": {
     "end_time": "2020-06-19T03:34:58.183474Z",
     "start_time": "2020-06-19T03:34:57.931051Z"
    }
   },
   "outputs": [
    {
     "data": {
      "text/plain": [
       "1128260"
      ]
     },
     "execution_count": 45,
     "metadata": {},
     "output_type": "execute_result"
    }
   ],
   "source": [
    "len([word for book in books.values() for word in book.split(' ')])"
   ]
  },
  {
   "cell_type": "code",
   "execution_count": 46,
   "metadata": {
    "ExecuteTime": {
     "end_time": "2020-06-19T03:35:00.752352Z",
     "start_time": "2020-06-19T03:35:00.652922Z"
    }
   },
   "outputs": [
    {
     "data": {
      "text/plain": [
       "118571"
      ]
     },
     "execution_count": 46,
     "metadata": {},
     "output_type": "execute_result"
    }
   ],
   "source": [
    "lines = [line for book in books.values() \n",
    "         for line in book.replace(BREAK, '').split('.') if line]\n",
    "len(lines)"
   ]
  },
  {
   "cell_type": "code",
   "execution_count": 48,
   "metadata": {
    "ExecuteTime": {
     "end_time": "2020-06-19T03:35:05.597162Z",
     "start_time": "2020-06-19T03:35:05.416071Z"
    }
   },
   "outputs": [
    {
     "data": {
      "text/plain": [
       "(112642, 5929)"
      ]
     },
     "execution_count": 48,
     "metadata": {},
     "output_type": "execute_result"
    }
   ],
   "source": [
    "train, val = train_test_split(lines, test_size=0.05, random_state=0, \n",
    "                              shuffle=False)\n",
    "len(train), len(val)"
   ]
  },
  {
   "cell_type": "code",
   "execution_count": 49,
   "metadata": {
    "ExecuteTime": {
     "end_time": "2020-06-19T03:35:07.191234Z",
     "start_time": "2020-06-19T03:35:07.136860Z"
    }
   },
   "outputs": [
    {
     "data": {
      "text/plain": [
       "['PRELUDE TO\\n\\nTHE STORMLIGHT ARCHIVE\\n\\nKalak rounded a rocky stone ridge and stumbled to a stop before the body of a dying\\nthunderclast',\n",
       " ' The enormous stone beast lay on its side, riblike protrusions from its chest\\nbroken and cracked',\n",
       " ' The monstrosity was vaguely skeletal in shape, with unnaturally long\\nlimbs that sprouted from granite shoulders',\n",
       " ' The eyes were deep red spots on the arrowhead\\nface, as if created by a fire burning deep within the stone',\n",
       " ' They faded']"
      ]
     },
     "execution_count": 49,
     "metadata": {},
     "output_type": "execute_result"
    }
   ],
   "source": [
    "train[:5]"
   ]
  },
  {
   "cell_type": "code",
   "execution_count": 50,
   "metadata": {
    "ExecuteTime": {
     "end_time": "2020-06-19T03:35:08.921556Z",
     "start_time": "2020-06-19T03:35:08.866485Z"
    }
   },
   "outputs": [
    {
     "data": {
      "text/plain": [
       "[' To get a few spheres',\n",
       " '\\nHe stumbled back as they hovered around Rock and Bisig, then fled through a falling patch of\\nshamespren into the hallway outside',\n",
       " '\\nFIVE AND A HALF YEARS AGO\\nDalinar came to himself, gasping, in the cabin of a stormwagon',\n",
       " ' Heart pounding, he spun about,\\nkicking aside empty bottles and lifting his fists',\n",
       " ' Outside, the riddens of a storm washed the walls with\\nrain']"
      ]
     },
     "execution_count": 50,
     "metadata": {},
     "output_type": "execute_result"
    }
   ],
   "source": [
    "val[:5]"
   ]
  },
  {
   "cell_type": "code",
   "execution_count": 51,
   "metadata": {
    "ExecuteTime": {
     "end_time": "2020-06-19T03:35:10.018397Z",
     "start_time": "2020-06-19T03:35:09.939748Z"
    }
   },
   "outputs": [
    {
     "name": "stdout",
     "output_type": "stream",
     "text": [
      "Writing data to data/clean/train_huggingface.txt.\n",
      "Writing data to data/clean/val_huggingface.txt.\n"
     ]
    }
   ],
   "source": [
    "save('.'.join(train), 'data/clean/train_huggingface.txt')\n",
    "save('.'.join(val), 'data/clean/val_huggingface.txt')"
   ]
  },
  {
   "cell_type": "code",
   "execution_count": 52,
   "metadata": {
    "ExecuteTime": {
     "end_time": "2020-06-19T03:37:08.326058Z",
     "start_time": "2020-06-19T03:37:08.264101Z"
    }
   },
   "outputs": [
    {
     "name": "stdout",
     "output_type": "stream",
     "text": [
      "Writing data to data/clean/all_hugginface.txt.\n"
     ]
    }
   ],
   "source": [
    "save('.'.join(lines), 'data/clean/all_hugginface.txt')"
   ]
  },
  {
   "cell_type": "code",
   "execution_count": 56,
   "metadata": {
    "ExecuteTime": {
     "end_time": "2020-06-19T05:10:04.981128Z",
     "start_time": "2020-06-19T05:10:04.930655Z"
    }
   },
   "outputs": [],
   "source": [
    "def generate_huggingface_files(books, pre, train_pct=1.0, replace_break=''):\n",
    "    books = load_books(*books)\n",
    "    lines = [line for book in books.values() for line in \n",
    "             book.replace(BREAK, replace_break).split('.') if line]\n",
    "    if train_pct < 1.0:\n",
    "        texts = train_test_split(lines, train_size=train_pct,\n",
    "                                 random_state=0, shuffle=False)\n",
    "    else:\n",
    "        texts = [lines]\n",
    "    for text, split in zip(texts, ['train', 'val']):\n",
    "        save('.'.join(text), f'data/clean/{pre}_{split}_huggingface.txt')\n",
    "    return texts"
   ]
  },
  {
   "cell_type": "code",
   "execution_count": 58,
   "metadata": {
    "ExecuteTime": {
     "end_time": "2020-06-20T03:35:06.515851Z",
     "start_time": "2020-06-20T03:35:05.878481Z"
    }
   },
   "outputs": [
    {
     "name": "stdout",
     "output_type": "stream",
     "text": [
      "Writing data to data/clean/cosmere_train_huggingface.txt.\n"
     ]
    }
   ],
   "source": [
    "cosmere = generate_huggingface_files(STORMLIGHT+NOVELLAS, \n",
    "                                     'cosmere')[0]"
   ]
  }
 ],
 "metadata": {
  "kernelspec": {
   "display_name": "Python 3",
   "language": "python",
   "name": "python3"
  },
  "language_info": {
   "codemirror_mode": {
    "name": "ipython",
    "version": 3
   },
   "file_extension": ".py",
   "mimetype": "text/x-python",
   "name": "python",
   "nbconvert_exporter": "python",
   "pygments_lexer": "ipython3",
   "version": "3.7.3"
  }
 },
 "nbformat": 4,
 "nbformat_minor": 2
}
