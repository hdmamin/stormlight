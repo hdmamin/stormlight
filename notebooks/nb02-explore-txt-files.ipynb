{
 "cells": [
  {
   "cell_type": "code",
   "execution_count": 1,
   "metadata": {
    "ExecuteTime": {
     "end_time": "2020-06-01T03:24:21.453128Z",
     "start_time": "2020-06-01T03:24:21.421898Z"
    }
   },
   "outputs": [],
   "source": [
    "%load_ext autoreload\n",
    "%autoreload 2"
   ]
  },
  {
   "cell_type": "code",
   "execution_count": 2,
   "metadata": {
    "ExecuteTime": {
     "end_time": "2020-06-01T03:24:22.930428Z",
     "start_time": "2020-06-01T03:24:21.707251Z"
    }
   },
   "outputs": [],
   "source": [
    "import gc\n",
    "import matplotlib.pyplot as plt\n",
    "import numpy as np\n",
    "import os\n",
    "import pandas as pd\n",
    "from pathlib import Path\n",
    "import unicodedata\n",
    "\n",
    "from htools import *"
   ]
  },
  {
   "cell_type": "code",
   "execution_count": 3,
   "metadata": {
    "ExecuteTime": {
     "end_time": "2020-06-01T03:24:23.406350Z",
     "start_time": "2020-06-01T03:24:23.383544Z"
    }
   },
   "outputs": [
    {
     "name": "stdout",
     "output_type": "stream",
     "text": [
      "Current directory: /Users/hmamin/stormlight\n"
     ]
    }
   ],
   "source": [
    "cd_root()"
   ]
  },
  {
   "cell_type": "code",
   "execution_count": 4,
   "metadata": {
    "ExecuteTime": {
     "end_time": "2020-06-01T03:24:26.065771Z",
     "start_time": "2020-06-01T03:24:26.043389Z"
    }
   },
   "outputs": [],
   "source": [
    "dir_ = Path('data/interim')"
   ]
  },
  {
   "cell_type": "code",
   "execution_count": 5,
   "metadata": {
    "ExecuteTime": {
     "end_time": "2020-06-01T03:24:26.801406Z",
     "start_time": "2020-06-01T03:24:26.652000Z"
    }
   },
   "outputs": [
    {
     "name": "stdout",
     "output_type": "stream",
     "text": [
      "edgedancer.txt                the_way_of_kings.txt\r\n",
      "mistborn_the_final_empire.txt warbreaker.txt\r\n",
      "oathbringer.txt               words_of_radiance.txt\r\n"
     ]
    }
   ],
   "source": [
    "!ls {dir_}"
   ]
  },
  {
   "cell_type": "code",
   "execution_count": 6,
   "metadata": {
    "ExecuteTime": {
     "end_time": "2020-06-01T03:24:28.612816Z",
     "start_time": "2020-06-01T03:24:28.568262Z"
    }
   },
   "outputs": [],
   "source": [
    "f2pre = {'edgedancer.txt': 'edge',\n",
    "         'mistborn_the_final_empire.txt': 'mist',\n",
    "         'oathbringer.txt': 'oath',\n",
    "         'the_way_of_kings.txt': 'kings',\n",
    "         'warbreaker.txt': 'war',\n",
    "         'words_of_radiance.txt': 'words'}\n",
    "books = DotDict({f2pre[f]: load(dir_/f) for f in os.listdir(dir_)})"
   ]
  },
  {
   "cell_type": "code",
   "execution_count": 7,
   "metadata": {
    "ExecuteTime": {
     "end_time": "2020-06-01T03:24:29.587911Z",
     "start_time": "2020-06-01T03:24:29.560497Z"
    }
   },
   "outputs": [
    {
     "data": {
      "text/plain": [
       "[2300104, 292812, 1236623, 2624619, 2210589, 1155863]"
      ]
     },
     "execution_count": 7,
     "metadata": {},
     "output_type": "execute_result"
    }
   ],
   "source": [
    "lmap(len, *books.values())"
   ]
  },
  {
   "cell_type": "code",
   "execution_count": 8,
   "metadata": {
    "ExecuteTime": {
     "end_time": "2020-06-01T03:24:32.864112Z",
     "start_time": "2020-06-01T03:24:32.837887Z"
    }
   },
   "outputs": [
    {
     "data": {
      "text/plain": [
       "2201901"
      ]
     },
     "execution_count": 8,
     "metadata": {},
     "output_type": "execute_result"
    }
   ],
   "source": [
    "books.kings.lower().find('the end of\\n\\nbook')"
   ]
  },
  {
   "cell_type": "code",
   "execution_count": 66,
   "metadata": {
    "ExecuteTime": {
     "end_time": "2020-06-01T03:34:12.589094Z",
     "start_time": "2020-06-01T03:34:12.563534Z"
    }
   },
   "outputs": [
    {
     "name": "stdout",
     "output_type": "stream",
     "text": [
      "\n",
      "\n",
      "\f",
      "THE WAY OF KINGS\n",
      "\n",
      "\f",
      "\f",
      "\f",
      "PRELUDE TO\n",
      "\n",
      "THE STORMLIGHT\n",
      "\n",
      "-------------------------------------------------------------------------------\n",
      "\n",
      "\"\n",
      "THE END OF\n",
      "\n",
      "Book One of\n",
      "THE STORMLIGHT ARCHIVE\n",
      "\n",
      "\n"
     ]
    }
   ],
   "source": [
    "start, end = 8_380, 2_201_949\n",
    "print(books.kings[start:start+50])\n",
    "print(spacer())\n",
    "print(books.kings[end-50:end])"
   ]
  },
  {
   "cell_type": "code",
   "execution_count": 58,
   "metadata": {
    "ExecuteTime": {
     "end_time": "2020-06-01T03:32:42.358170Z",
     "start_time": "2020-06-01T03:32:42.333622Z"
    }
   },
   "outputs": [
    {
     "name": "stdout",
     "output_type": "stream",
     "text": [
      "\n",
      "\n",
      "\f",
      "\f",
      "SIX YEARS AGO\n",
      "Jasnah Kholin pretended to enjoy\n",
      "\n",
      "-------------------------------------------------------------------------------\n",
      "\n",
      "\n",
      "\n",
      "THE END OF\n",
      "\n",
      "Book Two of\n",
      "THE STORMLIGHT ARCHIVE\n",
      "\n",
      "\n"
     ]
    }
   ],
   "source": [
    "start, end = 10_020, 2_289_706\n",
    "print(books.words[start:start+50])\n",
    "print(spacer())\n",
    "print(books.words[end-50:end])"
   ]
  },
  {
   "cell_type": "code",
   "execution_count": 83,
   "metadata": {
    "ExecuteTime": {
     "end_time": "2020-06-01T03:36:21.647104Z",
     "start_time": "2020-06-01T03:36:21.623392Z"
    }
   },
   "outputs": [
    {
     "name": "stdout",
     "output_type": "stream",
     "text": [
      "\n",
      "\n",
      "\f",
      "\f",
      "\f",
      "SIX YEARS AGO\n",
      "Eshonai had always told her sis\n",
      "\n",
      "-------------------------------------------------------------------------------\n",
      "\n",
      "HE END OF\n",
      "\n",
      "Book Three of\n",
      "\n",
      "THE STORMLIGHT ARCHIVE\n",
      "\n",
      "\n"
     ]
    }
   ],
   "source": [
    "start, end = 9_250, 2_606_440\n",
    "print(books.oath[start:start+50])\n",
    "print(spacer())\n",
    "print(books.oath[end-50:end])"
   ]
  },
  {
   "cell_type": "code",
   "execution_count": 133,
   "metadata": {
    "ExecuteTime": {
     "end_time": "2020-06-01T04:13:08.001864Z",
     "start_time": "2020-06-01T04:13:07.977266Z"
    }
   },
   "outputs": [
    {
     "name": "stdout",
     "output_type": "stream",
     "text": [
      "\n",
      "\n",
      "\f",
      "Prologue\n",
      "\n",
      "I\n",
      "\n",
      "t's funny, Vasher thought, how man\n",
      "\n",
      "-------------------------------------------------------------------------------\n",
      "\n",
      "don't care,\" she said. \"And I never have to again.\n"
     ]
    }
   ],
   "source": [
    "start, end = 6_015, 1_151_035\n",
    "print(books.war[start:start+50])\n",
    "print(spacer())\n",
    "print(books.war[end-50:end])"
   ]
  },
  {
   "cell_type": "code",
   "execution_count": 192,
   "metadata": {
    "ExecuteTime": {
     "end_time": "2020-06-01T04:40:32.821271Z",
     "start_time": "2020-06-01T04:40:32.790852Z"
    }
   },
   "outputs": [
    {
     "name": "stdout",
     "output_type": "stream",
     "text": [
      "\n",
      "\n",
      "\f",
      "PROLOGUE\n",
      "\n",
      "Lift had never robbed a palace before\n",
      "\n",
      "-------------------------------------------------------------------------------\n",
      "\n",
      "think you might not be a Voidbringer after\n",
      "all.\"\n",
      "\n",
      "\n"
     ]
    }
   ],
   "source": [
    "start, end = 954, 287_915\n",
    "print(books.edge[start:start+50])\n",
    "print(spacer())\n",
    "print(books.edge[end-50:end])"
   ]
  },
  {
   "cell_type": "code",
   "execution_count": 171,
   "metadata": {
    "ExecuteTime": {
     "end_time": "2020-06-01T04:24:57.245462Z",
     "start_time": "2020-06-01T04:24:57.102575Z"
    }
   },
   "outputs": [
    {
     "data": {
      "text/plain": [
       "{'words': (2289658, 'on which to end. . . .\"\\n\\nthe end of\\n\\nbook two of\\nt'),\n",
       " 'edge': (-1, ''),\n",
       " 'mist': (-1, ''),\n",
       " 'oath': (2606389, 'le one,\" wit whispered.\\n\\nthe end of\\n\\nbook three of'),\n",
       " 'kings': (2201901, 'ed, unfortunate friend.\"\\nthe end of\\n\\nbook one of\\nt'),\n",
       " 'war': (-1, '')}"
      ]
     },
     "execution_count": 171,
     "metadata": {},
     "output_type": "execute_result"
    }
   ],
   "source": [
    "{k: fgrep(v.lower(), 'the end of\\n\\nbook', with_idx=True) for k, v in books.items()}"
   ]
  },
  {
   "cell_type": "code",
   "execution_count": 88,
   "metadata": {
    "ExecuteTime": {
     "end_time": "2020-06-01T04:05:09.395939Z",
     "start_time": "2020-06-01T04:05:09.372713Z"
    }
   },
   "outputs": [
    {
     "name": "stdout",
     "output_type": "stream",
     "text": [
      "abc\tdef\n"
     ]
    }
   ],
   "source": [
    "print('abc\\tdef')"
   ]
  },
  {
   "cell_type": "code",
   "execution_count": 89,
   "metadata": {
    "ExecuteTime": {
     "end_time": "2020-06-01T04:05:09.657264Z",
     "start_time": "2020-06-01T04:05:09.626934Z"
    }
   },
   "outputs": [
    {
     "name": "stdout",
     "output_type": "stream",
     "text": [
      "abc\u000b",
      "def\n"
     ]
    }
   ],
   "source": [
    "print('abc\\vdef')"
   ]
  },
  {
   "cell_type": "code",
   "execution_count": 90,
   "metadata": {
    "ExecuteTime": {
     "end_time": "2020-06-01T04:05:09.912105Z",
     "start_time": "2020-06-01T04:05:09.886269Z"
    }
   },
   "outputs": [
    {
     "name": "stdout",
     "output_type": "stream",
     "text": [
      "abc\u000b",
      "cdef\n"
     ]
    }
   ],
   "source": [
    "print('abc\\x0bcdef')"
   ]
  },
  {
   "cell_type": "code",
   "execution_count": 91,
   "metadata": {
    "ExecuteTime": {
     "end_time": "2020-06-01T04:05:11.850096Z",
     "start_time": "2020-06-01T04:05:11.827703Z"
    }
   },
   "outputs": [
    {
     "name": "stdout",
     "output_type": "stream",
     "text": [
      "abc\u000b",
      "cdef\n"
     ]
    }
   ],
   "source": [
    "print('abc\\x0bcdef')"
   ]
  },
  {
   "cell_type": "code",
   "execution_count": 94,
   "metadata": {
    "ExecuteTime": {
     "end_time": "2020-06-01T04:05:37.048515Z",
     "start_time": "2020-06-01T04:05:37.024676Z"
    }
   },
   "outputs": [],
   "source": [
    "def is_ascii(tok):\n",
    "    return all(ord(char) < 128 for char in tok)"
   ]
  },
  {
   "cell_type": "code",
   "execution_count": 95,
   "metadata": {
    "ExecuteTime": {
     "end_time": "2020-06-01T04:05:37.223954Z",
     "start_time": "2020-06-01T04:05:37.187642Z"
    }
   },
   "outputs": [],
   "source": [
    "def pct_ascii(tokens):\n",
    "    return np.mean([is_ascii(t) for t in tokens])"
   ]
  },
  {
   "cell_type": "code",
   "execution_count": 196,
   "metadata": {
    "ExecuteTime": {
     "end_time": "2020-06-01T04:42:52.137054Z",
     "start_time": "2020-06-01T04:42:52.113455Z"
    }
   },
   "outputs": [],
   "source": [
    "# Not sure if form feed character will breat tokenizer so replace. Might be\n",
    "# able to specify this later (e.g. edit fastai tokenizer special chars).\n",
    "# Do this after we find the start/end idx so those don't change.\n",
    "# Looks like \\x0c almost always comes after \\n\\n, at least for warbreaker and \n",
    "# edgedancer, but there are many instances of \\n\\n that aren't followed by \n",
    "# \\x0c (~4:1 in warbreaker).\n",
    "def replace_page_breaks(text):\n",
    "    return text.replace('\\x0c', ' xxpg ')"
   ]
  },
  {
   "cell_type": "code",
   "execution_count": 96,
   "metadata": {
    "ExecuteTime": {
     "end_time": "2020-06-01T04:05:38.544264Z",
     "start_time": "2020-06-01T04:05:38.519043Z"
    }
   },
   "outputs": [
    {
     "data": {
      "text/plain": [
       "[True, True]"
      ]
     },
     "execution_count": 96,
     "metadata": {},
     "output_type": "execute_result"
    }
   ],
   "source": [
    "[is_ascii(c) for c in 'abc def$'.split()]"
   ]
  },
  {
   "cell_type": "code",
   "execution_count": 97,
   "metadata": {
    "ExecuteTime": {
     "end_time": "2020-06-01T04:05:38.732604Z",
     "start_time": "2020-06-01T04:05:38.707482Z"
    }
   },
   "outputs": [
    {
     "data": {
      "text/plain": [
       "[True, False, False]"
      ]
     },
     "execution_count": 97,
     "metadata": {},
     "output_type": "execute_result"
    }
   ],
   "source": [
    "[is_ascii(c) for c in 'abc 🏝 d🏝d'.split()]"
   ]
  },
  {
   "cell_type": "code",
   "execution_count": 98,
   "metadata": {
    "ExecuteTime": {
     "end_time": "2020-06-01T04:05:42.068484Z",
     "start_time": "2020-06-01T04:05:40.221842Z"
    }
   },
   "outputs": [
    {
     "name": "stdout",
     "output_type": "stream",
     "text": [
      "words 1.0\n",
      "edge 1.0\n",
      "mist 1.0\n",
      "oath 1.0\n",
      "kings 1.0\n",
      "war 1.0\n"
     ]
    }
   ],
   "source": [
    "for k, v in books.items():\n",
    "    print(k, pct_ascii(books[k].split()))"
   ]
  },
  {
   "cell_type": "code",
   "execution_count": 101,
   "metadata": {
    "ExecuteTime": {
     "end_time": "2020-06-01T04:08:53.901244Z",
     "start_time": "2020-06-01T04:08:53.709884Z"
    }
   },
   "outputs": [
    {
     "data": {
      "text/plain": [
       "1712823"
      ]
     },
     "execution_count": 101,
     "metadata": {},
     "output_type": "execute_result"
    }
   ],
   "source": [
    "# Rough estimate of number of words (just splitting on spaces).\n",
    "sum(len(v.split()) for k, v in books.items())"
   ]
  },
  {
   "cell_type": "code",
   "execution_count": null,
   "metadata": {},
   "outputs": [],
   "source": []
  }
 ],
 "metadata": {
  "kernelspec": {
   "display_name": "Python 3",
   "language": "python",
   "name": "python3"
  },
  "language_info": {
   "codemirror_mode": {
    "name": "ipython",
    "version": 3
   },
   "file_extension": ".py",
   "mimetype": "text/x-python",
   "name": "python",
   "nbconvert_exporter": "python",
   "pygments_lexer": "ipython3",
   "version": "3.7.3"
  }
 },
 "nbformat": 4,
 "nbformat_minor": 2
}
